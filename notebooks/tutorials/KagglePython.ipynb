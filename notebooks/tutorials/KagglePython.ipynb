{
 "cells": [
  {
   "cell_type": "markdown",
   "id": "7ce82531",
   "metadata": {},
   "source": [
    "# Notes on Kaggle python mini-course\n",
    "https://www.kaggle.com/learn/python"
   ]
  },
  {
   "cell_type": "markdown",
   "id": "c8fc201b",
   "metadata": {},
   "source": [
    "You can use these functions when in doubt:"
   ]
  },
  {
   "cell_type": "code",
   "execution_count": null,
   "id": "1c21c869",
   "metadata": {},
   "outputs": [],
   "source": [
    "something = [1,2,\"3\"]\n",
    "help(something) # Help on list object\n",
    "type(something) # Returns what we are working with, object, list etc.\n",
    "dir(something) # Returns me everything I can do with that thing. Formally gives me all the attributes and methods of an object."
   ]
  },
  {
   "cell_type": "markdown",
   "id": "bb25cbac",
   "metadata": {},
   "source": [
    "Switch variables of two objects with a single line:"
   ]
  },
  {
   "cell_type": "code",
   "execution_count": 5,
   "id": "5ad6f3cc",
   "metadata": {},
   "outputs": [
    {
     "data": {
      "text/plain": [
       "(3, 1)"
      ]
     },
     "execution_count": 5,
     "metadata": {},
     "output_type": "execute_result"
    }
   ],
   "source": [
    "a = 1\n",
    "b = 3\n",
    "a, b = b, a ## This is a tuple\n",
    "a,b"
   ]
  },
  {
   "cell_type": "markdown",
   "id": "ecacf9b5",
   "metadata": {},
   "source": [
    "Conditional expressions for more succinct code"
   ]
  },
  {
   "cell_type": "code",
   "execution_count": 8,
   "id": "8483d046",
   "metadata": {},
   "outputs": [
    {
     "name": "stdout",
     "output_type": "stream",
     "text": [
      "candies\n",
      "candy\n"
     ]
    }
   ],
   "source": [
    "total_candies = 10\n",
    "print(\"candy\" if total_candies == 1 else \"candies\")\n",
    "total_candies = 1\n",
    "print(\"candy\" if total_candies == 1 else \"candies\")"
   ]
  },
  {
   "cell_type": "markdown",
   "id": "6ddb6e80",
   "metadata": {},
   "source": [
    "XOR (Exclusive or) snytax in python"
   ]
  },
  {
   "cell_type": "code",
   "execution_count": null,
   "id": "a593e344",
   "metadata": {},
   "outputs": [
    {
     "name": "stdout",
     "output_type": "stream",
     "text": [
      "True\n",
      "False\n",
      "False\n"
     ]
    }
   ],
   "source": [
    "print(False ^ True)\n",
    "print(False ^ False)\n",
    "print(True ^ True)"
   ]
  },
  {
   "cell_type": "markdown",
   "id": "25c5e223",
   "metadata": {},
   "source": [
    "Python can evaluate non-boolean values into boolean:"
   ]
  },
  {
   "cell_type": "code",
   "execution_count": 17,
   "id": "f39c1834",
   "metadata": {},
   "outputs": [
    {
     "name": "stdout",
     "output_type": "stream",
     "text": [
      "True\n",
      "False\n",
      "1\n",
      "0\n"
     ]
    }
   ],
   "source": [
    "a, b, c, d = (1,0,True,False)\n",
    "print(bool(a)) # True\n",
    "print(bool(b)) # False\n",
    "print(int(c)) # 1\n",
    "print(int(d)) # 0\n"
   ]
  },
  {
   "cell_type": "markdown",
   "id": "e81d373b",
   "metadata": {},
   "source": [
    "Python bool() and int() and usecases with conditional expressions"
   ]
  },
  {
   "cell_type": "code",
   "execution_count": 16,
   "id": "cc9e85f5",
   "metadata": {},
   "outputs": [
    {
     "name": "stdout",
     "output_type": "stream",
     "text": [
      "True\n",
      "True\n"
     ]
    }
   ],
   "source": [
    "ketchup = True\n",
    "mayo = False\n",
    "mustard = False\n",
    "'''So you can write a conditional where only one of them has to be true for the conditional to be true as such:'''\n",
    "print(int(ketchup) + int(mayo) + int(mustard) == 1)\n",
    "'''OR even better PYTHON automatically turns booleans into integers when you use the + operator'''\n",
    "print(ketchup + mayo + mustard == 1) ## Same thing as above"
   ]
  },
  {
   "cell_type": "markdown",
   "id": "9d3f65bc",
   "metadata": {},
   "source": [
    "List comprehensions:"
   ]
  },
  {
   "cell_type": "code",
   "execution_count": 22,
   "id": "5ef0e5f8",
   "metadata": {},
   "outputs": [
    {
     "name": "stdout",
     "output_type": "stream",
     "text": [
      "[1, 4, 9, 16, 25, 36, 49, 64, 81, 100]\n",
      "[1.0, 2.0, 3.0, 4.0, 5.0, 6.0, 7.0, 8.0, 9.0, 10.0]\n"
     ]
    }
   ],
   "source": [
    "squares = [n**2 for n in range(1,11)]\n",
    "print(squares)\n",
    "roots = [n**(1/2) for n in squares]\n",
    "print(roots)"
   ]
  },
  {
   "cell_type": "markdown",
   "id": "f7ccfa29",
   "metadata": {},
   "source": [
    "Using succinct if condition:"
   ]
  },
  {
   "cell_type": "code",
   "execution_count": 24,
   "id": "93405654",
   "metadata": {},
   "outputs": [
    {
     "data": {
      "text/plain": [
       "['Venus', 'Earth', 'Mars']"
      ]
     },
     "execution_count": 24,
     "metadata": {},
     "output_type": "execute_result"
    }
   ],
   "source": [
    "planets = ['Mercury', 'Venus', 'Earth', 'Mars', 'Jupiter', 'Saturn', 'Uranus', 'Neptune']\n",
    "short_planets = [planet for planet in planets if len(planet) < 6]\n",
    "short_planets"
   ]
  },
  {
   "cell_type": "markdown",
   "id": "93973fc7",
   "metadata": {},
   "source": [
    "any returns True if any member of the iterable is True"
   ]
  },
  {
   "cell_type": "code",
   "execution_count": 25,
   "id": "198c29c0",
   "metadata": {},
   "outputs": [
    {
     "name": "stdout",
     "output_type": "stream",
     "text": [
      "False\n",
      "True\n"
     ]
    }
   ],
   "source": [
    "nums = [1,2,10,17,19]\n",
    "is_any_divisble_by_7 = any([num % 7 == 0 for num in nums])\n",
    "print(is_any_divisble_by_7)\n",
    "nums = [1,2,10,17,21]\n",
    "is_any_divisble_by_7 = any([num % 7 == 0 for num in nums])\n",
    "print(is_any_divisble_by_7)"
   ]
  },
  {
   "cell_type": "markdown",
   "id": "e9e81b92",
   "metadata": {},
   "source": [
    "str.format() method:"
   ]
  },
  {
   "cell_type": "code",
   "execution_count": 27,
   "id": "914dd5c1",
   "metadata": {},
   "outputs": [
    {
     "data": {
      "text/plain": [
       "\"Pluto, you'll always be the 9th planet to me.\""
      ]
     },
     "execution_count": 27,
     "metadata": {},
     "output_type": "execute_result"
    }
   ],
   "source": [
    "planet = \"Pluto\" \n",
    "position = 9\n",
    "\"{}, you'll always be the {}th planet to me.\".format(planet, position)"
   ]
  },
  {
   "cell_type": "markdown",
   "id": "e49886ef",
   "metadata": {},
   "source": [
    "str.format can do so much more (see also: https://pyformat.info/):"
   ]
  },
  {
   "cell_type": "code",
   "execution_count": 29,
   "id": "213dbf8b",
   "metadata": {},
   "outputs": [
    {
     "name": "stdout",
     "output_type": "stream",
     "text": [
      "Pluto weighs about 1.3e+22 kilograms (0.218% of Earth's mass). It is home to 52,910,390 Plutonians.\n",
      "Pluto's a planet.\n",
      "No, it's a dwarf planet.\n",
      "planet!\n",
      "dwarf planet!\n"
     ]
    }
   ],
   "source": [
    "pluto_mass = 1.303 * 10**22\n",
    "earth_mass = 5.9722 * 10**24\n",
    "population = 52910390\n",
    "#         2 decimal points   3 decimal points, format as percent     separate with commas\n",
    "print(\"{} weighs about {:.2} kilograms ({:.3%} of Earth's mass). It is home to {:,} Plutonians.\".format(\n",
    "    planet, pluto_mass, pluto_mass / earth_mass, population,\n",
    "))\n",
    "\n",
    "# Referring to format() arguments by index, starting from 0\n",
    "s = \"\"\"Pluto's a {0}.\n",
    "No, it's a {1}.\n",
    "{0}!\n",
    "{1}!\"\"\".format('planet', 'dwarf planet')\n",
    "print(s)"
   ]
  },
  {
   "cell_type": "markdown",
   "id": "1ed6a3aa",
   "metadata": {},
   "source": [
    "You can also form dictionaries like the list compression:"
   ]
  },
  {
   "cell_type": "code",
   "execution_count": 31,
   "id": "e36b0d09",
   "metadata": {},
   "outputs": [
    {
     "data": {
      "text/plain": [
       "{'Mercury': 'M',\n",
       " 'Venus': 'V',\n",
       " 'Earth': 'E',\n",
       " 'Mars': 'M',\n",
       " 'Jupiter': 'J',\n",
       " 'Saturn': 'S',\n",
       " 'Uranus': 'U',\n",
       " 'Neptune': 'N'}"
      ]
     },
     "execution_count": 31,
     "metadata": {},
     "output_type": "execute_result"
    }
   ],
   "source": [
    "planet_to_initial = {planet: planet[0] for planet in planets}\n",
    "planet_to_initial"
   ]
  }
 ],
 "metadata": {
  "kernelspec": {
   "display_name": "medai",
   "language": "python",
   "name": "python3"
  },
  "language_info": {
   "codemirror_mode": {
    "name": "ipython",
    "version": 3
   },
   "file_extension": ".py",
   "mimetype": "text/x-python",
   "name": "python",
   "nbconvert_exporter": "python",
   "pygments_lexer": "ipython3",
   "version": "3.10.16"
  }
 },
 "nbformat": 4,
 "nbformat_minor": 5
}
